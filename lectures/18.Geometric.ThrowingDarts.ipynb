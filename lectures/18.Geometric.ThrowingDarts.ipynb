{
 "cells": [
  {
   "cell_type": "markdown",
   "metadata": {},
   "source": [
    "# Geometric Distribution\n",
    "## *If I throw 100 darts at the number line between 1 and 1000, how far apart do we expect them to be?*"
   ]
  },
  {
   "cell_type": "code",
   "execution_count": 1,
   "metadata": {},
   "outputs": [
    {
     "name": "stdout",
     "output_type": "stream",
     "text": [
      "throwing darts...\n",
      "0: 378\n",
      "1: 752\n",
      "2: 388\n",
      "3: 560\n",
      "4: 741\n",
      "5: 44\n",
      "6: 203\n",
      "7: 168\n",
      "8: 238\n",
      "9: 44\n",
      "The maximum number of darts at one position was 2\n"
     ]
    }
   ],
   "source": [
    "import random\n",
    "import math\n",
    "\n",
    "line_len = 1000\n",
    "num_darts = 100\n",
    "\n",
    "line = [0 for x in xrange(line_len)]\n",
    "\n",
    "print \"throwing darts...\"\n",
    "for i in xrange(num_darts):\n",
    "    pos = random.randint(0,line_len-1)\n",
    "    line[pos] += 1\n",
    "    \n",
    "    if (i < 10):\n",
    "        print \"%d: %d\" % (i, pos)\n",
    "    \n",
    "\n",
    "print \"The maximum number of darts at one position was %d\" % (max(line))"
   ]
  },
  {
   "cell_type": "code",
   "execution_count": 2,
   "metadata": {},
   "outputs": [
    {
     "data": {
      "text/plain": [
       "<Figure size 640x480 with 1 Axes>"
      ]
     },
     "metadata": {},
     "output_type": "display_data"
    }
   ],
   "source": [
    "import matplotlib.pyplot as plt\n",
    "## plt.figure(figsize=(15,4), dpi=100)\n",
    "plt.bar(range(line_len), line)\n",
    "plt.show()"
   ]
  },
  {
   "cell_type": "code",
   "execution_count": 3,
   "metadata": {},
   "outputs": [
    {
     "name": "stdout",
     "output_type": "stream",
     "text": [
      "The observed mean distance was 9.81 and the expected mean was 10.00\n"
     ]
    }
   ],
   "source": [
    "## compute the distances between darts\n",
    "\n",
    "distances = []\n",
    "\n",
    "last_dart = -1\n",
    "left_distance = line_len\n",
    "\n",
    "for i in xrange(line_len):\n",
    "    if (line[i] > 0):\n",
    "        right_dist = i - last_dart\n",
    "        min_dist = right_dist\n",
    "        if (left_distance < min_dist):\n",
    "            min_distance = left_distance\n",
    "        \n",
    "        if (last_dart != -1):\n",
    "            distances.append(min_dist)\n",
    "        \n",
    "        if (line[i] > 1):\n",
    "            for dd in xrange(line[i]-1):\n",
    "                distances.append(0)\n",
    "            left_distance = 0\n",
    "        else:\n",
    "            left_distance = right_dist\n",
    "            \n",
    "        last_dart = i\n",
    "\n",
    "distances.append(left_distance)\n",
    "\n",
    "mean = (sum(distances) + 0.) / len(distances)\n",
    "expected_mean = float(line_len) / num_darts\n",
    "print \"The observed mean distance was %.02f and the expected mean was %.02f\" % (mean, expected_mean)"
   ]
  },
  {
   "cell_type": "markdown",
   "metadata": {},
   "source": [
    "### The expected mean distance is intuitive, but what do we expect for the standard deviation and the shape of the distribution?"
   ]
  },
  {
   "cell_type": "code",
   "execution_count": 4,
   "metadata": {},
   "outputs": [
    {
     "name": "stdout",
     "output_type": "stream",
     "text": [
      "The range in distances was 0 to 52\n",
      "The average distance between darts was: 9.81 +/- 9.56\n",
      "The expected distances was 10.00\n"
     ]
    }
   ],
   "source": [
    "sumdiff = 0.0\n",
    "for d in distances:\n",
    "    diff = (d - mean) ** 2\n",
    "    sumdiff += diff\n",
    "\n",
    "sumdiff /= len(distances)\n",
    "stdev = math.sqrt(sumdiff)\n",
    "\n",
    "print \"The range in distances was %d to %d\" % (min(distances), max(distances))\n",
    "print \"The average distance between darts was: %.02f +/- %.02f\" % (mean, stdev)\n",
    "print \"The expected distances was %.02f\" % (float(line_len) / num_darts)"
   ]
  },
  {
   "cell_type": "code",
   "execution_count": 5,
   "metadata": {},
   "outputs": [
    {
     "data": {
      "image/png": "[encoded data removed]",
      "text/plain": [
       "<Figure size 432x288 with 1 Axes>"
      ]
     },
     "metadata": {
      "needs_background": "light"
     },
     "output_type": "display_data"
    }
   ],
   "source": [
    "plt.figure()\n",
    "plt.hist(distances)\n",
    "plt.show()"
   ]
  },
  {
   "cell_type": "code",
   "execution_count": 6,
   "metadata": {},
   "outputs": [
    {
     "data": {
      "image/png": "[encoded data removed]",
      "text/plain": [
       "<Figure size 432x288 with 1 Axes>"
      ]
     },
     "metadata": {
      "needs_background": "light"
     },
     "output_type": "display_data"
    }
   ],
   "source": [
    "plt.figure()\n",
    "plt.hist(distances, bins=range(max(distances)+1), density=True)\n",
    "plt.show()"
   ]
  },
  {
   "cell_type": "markdown",
   "metadata": {},
   "source": [
    "## What happens if you increase the number of darts or the length of the number line?"
   ]
  },
  {
   "cell_type": "markdown",
   "metadata": {},
   "source": [
    "## Notice that the probability of a given dart landing at a given spot is \n",
    "\n",
    "$$\n",
    "p = \\text{line_len} / \\text{num_darts} \\text{ (10%)}\n",
    "$$\n",
    "\n",
    "So the probability of a given dart not landing at the next position is\n",
    "\n",
    "$$\n",
    "1-p \\text{ (90%)}\n",
    "$$\n",
    "\n",
    "And the probability of not having 2 darts in a row is\n",
    "\n",
    "$$\n",
    "(1-p)^2 \\text{ (90% * 90% = .81%) }\n",
    "$$\n",
    "\n",
    "And not having 3 in a row\n",
    "\n",
    "$$\n",
    "(1-p)^3 \\text{ (90% * 90% * 90% = 72.9%) }\n",
    "$$\n",
    "\n",
    "So the probability of not having several darts in a row followed by 1 dart is\n",
    "\n",
    "$$\n",
    "pdf = (1-p)^{k} p\n",
    "$$\n",
    "\n",
    "## This is called the geometric distribution"
   ]
  },
  {
   "cell_type": "code",
   "execution_count": 7,
   "metadata": {},
   "outputs": [],
   "source": [
    "p = .1\n",
    "geom_dist = []\n",
    "for i in xrange(max(distances)+1):\n",
    "    geom_prob = (1-p)**i * p\n",
    "    geom_dist.append(geom_prob)"
   ]
  },
  {
   "cell_type": "code",
   "execution_count": 8,
   "metadata": {},
   "outputs": [
    {
     "data": {
      "image/png": "[encoded data removed]",
      "text/plain": [
       "<Figure size 432x288 with 1 Axes>"
      ]
     },
     "metadata": {
      "needs_background": "light"
     },
     "output_type": "display_data"
    }
   ],
   "source": [
    "plt.figure()\n",
    "plt.bar(range(len(geom_dist)), geom_dist, color=\"green\")\n",
    "plt.show()"
   ]
  },
  {
   "cell_type": "code",
   "execution_count": 9,
   "metadata": {},
   "outputs": [
    {
     "name": "stderr",
     "output_type": "stream",
     "text": [
      "/Users/mschatz/miniconda2/lib/python2.7/site-packages/matplotlib/axes/_axes.py:6571: UserWarning: The 'normed' kwarg is deprecated, and has been replaced by the 'density' kwarg.\n",
      "  warnings.warn(\"The 'normed' kwarg is deprecated, and has been \"\n"
     ]
    },
    {
     "data": {
      "image/png": "[encoded data removed]",
      "text/plain": [
       "<Figure size 432x288 with 1 Axes>"
      ]
     },
     "metadata": {
      "needs_background": "light"
     },
     "output_type": "display_data"
    }
   ],
   "source": [
    "plt.figure()\n",
    "plt.hist(distances, bins=range(max(distances)+1), normed=True, label=\"Observed\")\n",
    "plt.plot(range(len(geom_dist)), geom_dist, color=\"green\", linewidth=4, label=\"Geometric\")\n",
    "plt.legend()\n",
    "plt.show()"
   ]
  },
  {
   "cell_type": "markdown",
   "metadata": {},
   "source": [
    "### The mean of the geometric distribution is 1/p (also p = 1/expected_mean)\n",
    "### The stdev is sqrt((1-p)/p^2)"
   ]
  },
  {
   "cell_type": "code",
   "execution_count": 10,
   "metadata": {},
   "outputs": [
    {
     "name": "stdout",
     "output_type": "stream",
     "text": [
      "The expected stdev was 9.49 and we observed 9.56\n"
     ]
    }
   ],
   "source": [
    "expected_stdev = math.sqrt((1-p)/(p**2))\n",
    "print \"The expected stdev was %.02f and we observed %.02f\" % (expected_stdev, stdev)"
   ]
  },
  {
   "cell_type": "markdown",
   "metadata": {},
   "source": [
    "The geometric distribution can be well approximated by an exponential distribution\n",
    "\n",
    "$$\n",
    "pdf(x) = p * e^{-p * x}\n",
    "$$"
   ]
  },
  {
   "cell_type": "code",
   "execution_count": 11,
   "metadata": {},
   "outputs": [],
   "source": [
    "p = .1\n",
    "exp_dist = []\n",
    "for i in xrange(max(distances)+1):\n",
    "    exp_prob = p * math.exp(-p * i)\n",
    "    exp_dist.append(exp_prob)"
   ]
  },
  {
   "cell_type": "code",
   "execution_count": 12,
   "metadata": {},
   "outputs": [
    {
     "data": {
      "image/png": "[encoded data removed]",
      "text/plain": [
       "<Figure size 432x288 with 1 Axes>"
      ]
     },
     "metadata": {
      "needs_background": "light"
     },
     "output_type": "display_data"
    }
   ],
   "source": [
    "plt.figure()\n",
    "plt.bar(range(len(exp_dist)), exp_dist, color=\"orange\")\n",
    "plt.show()"
   ]
  },
  {
   "cell_type": "code",
   "execution_count": 13,
   "metadata": {},
   "outputs": [
    {
     "data": {
      "image/png": "[encoded data removed]",
      "text/plain": [
       "<Figure size 432x288 with 1 Axes>"
      ]
     },
     "metadata": {
      "needs_background": "light"
     },
     "output_type": "display_data"
    }
   ],
   "source": [
    "plt.figure()\n",
    "plt.hist(distances, bins=range(max(distances)+1), normed=True, label=\"Observed\")\n",
    "plt.plot(range(len(geom_dist)), geom_dist, color=\"green\", linewidth=4, label=\"Geometric\")\n",
    "plt.plot(range(len(exp_dist)),  exp_dist, color=\"orange\", linewidth=4, linestyle=\"dashed\", label=\"Exponential\")\n",
    "plt.legend()\n",
    "plt.show()"
   ]
  },
  {
   "cell_type": "markdown",
   "metadata": {},
   "source": [
    "## Try to set the number of darts so that the average spacing is 42\n",
    "## *What does this imply when we see \"clusters\" of events?*"
   ]
  },
  {
   "cell_type": "markdown",
   "metadata": {},
   "source": [
    "## Further reading\n",
    "* http://www.matplotlib.org - The project web page for matplotlib.\n",
    "* http://matplotlib.org/gallery.html - A large gallery showcaseing various types of plots matplotlib can create. Highly recommended!\n",
    "* http://www.loria.fr/~rougier/teaching/matplotlib - A good matplotlib tutorial.\n",
    "* http://scipy-lectures.github.io/matplotlib/matplotlib.html - Another good matplotlib reference.\n",
    "* https://docs.python.org/2/tutorial/ Python Tutorial\n",
    "* http://en.wikipedia.org/wiki/Probability_distribution Probability distributions\n",
    "* https://schatzlab.cshl.edu/teaching All my teaching materials"
   ]
  }
 ],
 "metadata": {
  "kernelspec": {
   "display_name": "Python 2",
   "language": "python",
   "name": "python2"
  },
  "language_info": {
   "codemirror_mode": {
    "name": "ipython",
    "version": 2
   },
   "file_extension": ".py",
   "mimetype": "text/x-python",
   "name": "python",
   "nbconvert_exporter": "python",
   "pygments_lexer": "ipython2",
   "version": "2.7.15"
  }
 },
 "nbformat": 4,
 "nbformat_minor": 1
}
